{
  "nbformat": 4,
  "nbformat_minor": 0,
  "metadata": {
    "colab": {
      "name": "Untitled3.ipynb",
      "provenance": [],
      "collapsed_sections": [],
      "authorship_tag": "ABX9TyPo6NcSFO5XvuiZEOp8yygA",
      "include_colab_link": true
    },
    "kernelspec": {
      "name": "python3",
      "display_name": "Python 3"
    },
    "language_info": {
      "name": "python"
    }
  },
  "cells": [
    {
      "cell_type": "markdown",
      "metadata": {
        "id": "view-in-github",
        "colab_type": "text"
      },
      "source": [
        "<a href=\"https://colab.research.google.com/github/venabhi/chebrolu_IT533/blob/main/Untitled3.ipynb\" target=\"_parent\"><img src=\"https://colab.research.google.com/assets/colab-badge.svg\" alt=\"Open In Colab\"/></a>"
      ]
    },
    {
      "cell_type": "code",
      "metadata": {
        "colab": {
          "base_uri": "https://localhost:8080/",
          "height": 347
        },
        "id": "AxCDBp3ISX88",
        "outputId": "bbcabc5a-95b1-4e4d-82b8-a2780cf791e3"
      },
      "source": [
        "\n",
        "import numpy as np\n",
        "\n",
        "import pandas as pd \n",
        "import matplotlib.pyplot as plt\n",
        "import math\n",
        "from math import acos, degrees\n",
        "from scipy import spatial\n",
        "from scipy.stats import chisquare\n",
        "from scipy.stats import chi2_contingency\n",
        "from sklearn.metrics.pairwise import cosine_similarity\n",
        "\n",
        "\n",
        "\n",
        "\n",
        "\n",
        "\n",
        "\n",
        "#Reading in the data as adult dataframe\n",
        "top = pd.read_csv(\"https://raw.githubusercontent.com/venabhi/chebrolu_IT533/main/top2018.csv\")\n",
        "\n",
        "#Verifying that we can see the data\n",
        "top.head()"
      ],
      "execution_count": null,
      "outputs": [
        {
          "output_type": "execute_result",
          "data": {
            "text/html": [
              "<div>\n",
              "<style scoped>\n",
              "    .dataframe tbody tr th:only-of-type {\n",
              "        vertical-align: middle;\n",
              "    }\n",
              "\n",
              "    .dataframe tbody tr th {\n",
              "        vertical-align: top;\n",
              "    }\n",
              "\n",
              "    .dataframe thead th {\n",
              "        text-align: right;\n",
              "    }\n",
              "</style>\n",
              "<table border=\"1\" class=\"dataframe\">\n",
              "  <thead>\n",
              "    <tr style=\"text-align: right;\">\n",
              "      <th></th>\n",
              "      <th>id</th>\n",
              "      <th>name</th>\n",
              "      <th>artists</th>\n",
              "      <th>danceability</th>\n",
              "      <th>energy</th>\n",
              "      <th>key</th>\n",
              "      <th>loudness</th>\n",
              "      <th>mode</th>\n",
              "      <th>speechiness</th>\n",
              "      <th>acousticness</th>\n",
              "      <th>instrumentalness</th>\n",
              "      <th>liveness</th>\n",
              "      <th>valence</th>\n",
              "      <th>tempo</th>\n",
              "      <th>duration_ms</th>\n",
              "      <th>time_signature</th>\n",
              "    </tr>\n",
              "  </thead>\n",
              "  <tbody>\n",
              "    <tr>\n",
              "      <th>0</th>\n",
              "      <td>6DCZcSspjsKoFjzjrWoCd</td>\n",
              "      <td>God's Plan</td>\n",
              "      <td>Drake</td>\n",
              "      <td>0.754</td>\n",
              "      <td>0.449</td>\n",
              "      <td>7.0</td>\n",
              "      <td>-9.211</td>\n",
              "      <td>1.0</td>\n",
              "      <td>0.1090</td>\n",
              "      <td>0.0332</td>\n",
              "      <td>0.000083</td>\n",
              "      <td>0.552</td>\n",
              "      <td>0.357</td>\n",
              "      <td>77.169</td>\n",
              "      <td>198973.0</td>\n",
              "      <td>4.0</td>\n",
              "    </tr>\n",
              "    <tr>\n",
              "      <th>1</th>\n",
              "      <td>3ee8Jmje8o58CHK66QrVC</td>\n",
              "      <td>SAD!</td>\n",
              "      <td>XXXTENTACION</td>\n",
              "      <td>0.740</td>\n",
              "      <td>0.613</td>\n",
              "      <td>8.0</td>\n",
              "      <td>-4.880</td>\n",
              "      <td>1.0</td>\n",
              "      <td>0.1450</td>\n",
              "      <td>0.2580</td>\n",
              "      <td>0.003720</td>\n",
              "      <td>0.123</td>\n",
              "      <td>0.473</td>\n",
              "      <td>75.023</td>\n",
              "      <td>166606.0</td>\n",
              "      <td>4.0</td>\n",
              "    </tr>\n",
              "    <tr>\n",
              "      <th>2</th>\n",
              "      <td>0e7ipj03S05BNilyu5bRz</td>\n",
              "      <td>rockstar (feat. 21 Savage)</td>\n",
              "      <td>Post Malone</td>\n",
              "      <td>0.587</td>\n",
              "      <td>0.535</td>\n",
              "      <td>5.0</td>\n",
              "      <td>-6.090</td>\n",
              "      <td>0.0</td>\n",
              "      <td>0.0898</td>\n",
              "      <td>0.1170</td>\n",
              "      <td>0.000066</td>\n",
              "      <td>0.131</td>\n",
              "      <td>0.140</td>\n",
              "      <td>159.847</td>\n",
              "      <td>218147.0</td>\n",
              "      <td>4.0</td>\n",
              "    </tr>\n",
              "    <tr>\n",
              "      <th>3</th>\n",
              "      <td>3swc6WTsr7rl9DqQKQA55</td>\n",
              "      <td>Psycho (feat. Ty Dolla $ign)</td>\n",
              "      <td>Post Malone</td>\n",
              "      <td>0.739</td>\n",
              "      <td>0.559</td>\n",
              "      <td>8.0</td>\n",
              "      <td>-8.011</td>\n",
              "      <td>1.0</td>\n",
              "      <td>0.1170</td>\n",
              "      <td>0.5800</td>\n",
              "      <td>0.000000</td>\n",
              "      <td>0.112</td>\n",
              "      <td>0.439</td>\n",
              "      <td>140.124</td>\n",
              "      <td>221440.0</td>\n",
              "      <td>4.0</td>\n",
              "    </tr>\n",
              "    <tr>\n",
              "      <th>4</th>\n",
              "      <td>2G7V7zsVDxg1yRsu7Ew9R</td>\n",
              "      <td>In My Feelings</td>\n",
              "      <td>Drake</td>\n",
              "      <td>0.835</td>\n",
              "      <td>0.626</td>\n",
              "      <td>1.0</td>\n",
              "      <td>-5.833</td>\n",
              "      <td>1.0</td>\n",
              "      <td>0.1250</td>\n",
              "      <td>0.0589</td>\n",
              "      <td>0.000060</td>\n",
              "      <td>0.396</td>\n",
              "      <td>0.350</td>\n",
              "      <td>91.030</td>\n",
              "      <td>217925.0</td>\n",
              "      <td>4.0</td>\n",
              "    </tr>\n",
              "  </tbody>\n",
              "</table>\n",
              "</div>"
            ],
            "text/plain": [
              "                      id  ... time_signature\n",
              "0  6DCZcSspjsKoFjzjrWoCd  ...            4.0\n",
              "1  3ee8Jmje8o58CHK66QrVC  ...            4.0\n",
              "2  0e7ipj03S05BNilyu5bRz  ...            4.0\n",
              "3  3swc6WTsr7rl9DqQKQA55  ...            4.0\n",
              "4  2G7V7zsVDxg1yRsu7Ew9R  ...            4.0\n",
              "\n",
              "[5 rows x 16 columns]"
            ]
          },
          "metadata": {
            "tags": []
          },
          "execution_count": 11
        }
      ]
    },
    {
      "cell_type": "code",
      "metadata": {
        "colab": {
          "base_uri": "https://localhost:8080/"
        },
        "id": "r9tdweEoT_FQ",
        "outputId": "d12f8e96-b961-4f73-de82-d87197322de0"
      },
      "source": [
        "top.dtypes"
      ],
      "execution_count": null,
      "outputs": [
        {
          "output_type": "execute_result",
          "data": {
            "text/plain": [
              "id                   object\n",
              "name                 object\n",
              "artists              object\n",
              "danceability        float64\n",
              "energy              float64\n",
              "key                 float64\n",
              "loudness            float64\n",
              "mode                float64\n",
              "speechiness         float64\n",
              "acousticness        float64\n",
              "instrumentalness    float64\n",
              "liveness            float64\n",
              "valence             float64\n",
              "tempo               float64\n",
              "duration_ms         float64\n",
              "time_signature      float64\n",
              "dtype: object"
            ]
          },
          "metadata": {
            "tags": []
          },
          "execution_count": 12
        }
      ]
    },
    {
      "cell_type": "markdown",
      "metadata": {
        "id": "QyIj5EiQa4QB"
      },
      "source": [
        "QUESTION1:\n",
        "Answer: I had choose liveness and valence as my attibuites from my data set.\n",
        "According to my data set iam interestd to know about the exact track of musical positiveness. \n",
        "In addition, i want to know the presence of the audiance so, i had chossen these  two attributes from my dataset."
      ]
    },
    {
      "cell_type": "code",
      "metadata": {
        "colab": {
          "base_uri": "https://localhost:8080/"
        },
        "id": "9jHzdvEoUYQo",
        "outputId": "1b5407af-dc5d-4fb5-ec32-00e5080f03c7"
      },
      "source": [
        "\n",
        "a = np.array(top.liveness)\n",
        "b = np.array(top.valence)\n",
        "\n",
        "# Manually computing cosine similarity\n",
        "dot = np.dot(a, b)  # the dot product\n",
        "norma = np.linalg.norm(a)  # normalizing vector a\n",
        "normb = np.linalg.norm(b)  # normalizing vector b\n",
        "cos1 = dot / (norma * normb)  # computing the angle by dividing the dot product by the normalized vectors\n",
        "\n",
        "print(cos1)"
      ],
      "execution_count": null,
      "outputs": [
        {
          "output_type": "stream",
          "text": [
            "0.7442036574457693\n"
          ],
          "name": "stdout"
        }
      ]
    },
    {
      "cell_type": "markdown",
      "metadata": {
        "id": "vCZ-wahOZweQ"
      },
      "source": [
        "Question2:\n",
        "Answer:\n",
        "liveness In the recording, it detects the presence of an audience. A higher liveness number indicates that the track was most likely performed live. A scale ranging from 0.0 to 1.0 that describes how positive a track is musically. Positive-sounding tracks have a higher valence.\n",
        "By using the both attributes and the connection between the two attributes we can able to get the presence of an audiance with a positive sounding track.\n",
        "These attributes are very much surprised because, we can able to understand the presem\\nce of an audiance that is the most surprising factor."
      ]
    },
    {
      "cell_type": "code",
      "metadata": {
        "colab": {
          "base_uri": "https://localhost:8080/"
        },
        "id": "het_tg17Vyej",
        "outputId": "a2766caf-cc58-44b2-d5db-01b7beafeca1"
      },
      "source": [
        "angle_in_radians1 = math.acos(cos1)\n",
        "degrees1 = math.degrees(angle_in_radians1)\n",
        "print(cos1, angle_in_radians1, degrees1)"
      ],
      "execution_count": null,
      "outputs": [
        {
          "output_type": "stream",
          "text": [
            "0.7442036574457693 0.7314544926981853 41.90925533748871\n"
          ],
          "name": "stdout"
        }
      ]
    },
    {
      "cell_type": "code",
      "metadata": {
        "colab": {
          "base_uri": "https://localhost:8080/"
        },
        "id": "Z1fFVCsuWKM9",
        "outputId": "d3b7923b-0b37-4765-c737-30ea7c3d8cee"
      },
      "source": [
        "chi2, p, dof, expected = chi2_contingency((pd.crosstab(top.name, top.id).values))\n",
        "print (f'Chi-square Statistic: {chi2} ,p-value: {p}, Degrees of Freedom: {dof}')"
      ],
      "execution_count": null,
      "outputs": [
        {
          "output_type": "stream",
          "text": [
            "Chi-square Statistic: 9900.000000000002 ,p-value: 0.23900787924979866, Degrees of Freedom: 9801\n"
          ],
          "name": "stdout"
        }
      ]
    },
    {
      "cell_type": "code",
      "metadata": {
        "colab": {
          "base_uri": "https://localhost:8080/"
        },
        "id": "D5-fM1CnWuSl",
        "outputId": "cb8ea014-3d63-44e3-fbac-62c44d584117"
      },
      "source": [
        "\n",
        "np.cov([top.energy],[top.duration_ms])[0][1]"
      ],
      "execution_count": null,
      "outputs": [
        {
          "output_type": "execute_result",
          "data": {
            "text/plain": [
              "423.77907393939415"
            ]
          },
          "metadata": {
            "tags": []
          },
          "execution_count": 21
        }
      ]
    },
    {
      "cell_type": "markdown",
      "metadata": {
        "id": "A0JcAO-sfyEr"
      },
      "source": [
        "here covariance will assume the degrees of freedom amd iam giving two attributes and then covariance calculated by ddof by giving atrributes."
      ]
    },
    {
      "cell_type": "code",
      "metadata": {
        "colab": {
          "base_uri": "https://localhost:8080/"
        },
        "id": "c52hIszdXGSc",
        "outputId": "10d41e04-280e-4e16-dcb4-cd0e4b12e051"
      },
      "source": [
        "# POPULATION covariance can be calculated by setting ddof=0\n",
        "np.cov([top.energy],[top.duration_ms], ddof=0)[0][1]"
      ],
      "execution_count": null,
      "outputs": [
        {
          "output_type": "execute_result",
          "data": {
            "text/plain": [
              "419.5412832000002"
            ]
          },
          "metadata": {
            "tags": []
          },
          "execution_count": 22
        }
      ]
    },
    {
      "cell_type": "code",
      "metadata": {
        "colab": {
          "base_uri": "https://localhost:8080/"
        },
        "id": "WC19oUWEXPbX",
        "outputId": "d7121ff6-341c-429c-940a-105af27860aa"
      },
      "source": [
        "# POPULATION covariance with bias=True setting\n",
        "np.cov([top.energy],[top.duration_ms], bias=True)[0][1]"
      ],
      "execution_count": null,
      "outputs": [
        {
          "output_type": "execute_result",
          "data": {
            "text/plain": [
              "419.5412832000002"
            ]
          },
          "metadata": {
            "tags": []
          },
          "execution_count": 23
        }
      ]
    },
    {
      "cell_type": "code",
      "metadata": {
        "colab": {
          "base_uri": "https://localhost:8080/"
        },
        "id": "vviWT8xIXXAr",
        "outputId": "c19f6ef1-1b52-402e-fb79-695cf5452e18"
      },
      "source": [
        "# SAMPLE covariance omitting bias=True setting\n",
        "np.cov([top.energy],[top.duration_ms])[0][1]"
      ],
      "execution_count": null,
      "outputs": [
        {
          "output_type": "execute_result",
          "data": {
            "text/plain": [
              "423.77907393939415"
            ]
          },
          "metadata": {
            "tags": []
          },
          "execution_count": 24
        }
      ]
    },
    {
      "cell_type": "markdown",
      "metadata": {
        "id": "ezcETjsad2vi"
      },
      "source": [
        "Question3:\n",
        "Answer:\n",
        "Even if we don't have a theory to explain the correlations, they can be valuable. If all we want to do is make forecasts, it doesn't matter. All we require is a valid correlation. We could not care if people's self-reports of drinking are accurate or valid as long as they are consistent.\n",
        "i will check weather the attributes are linked or not which are numeric and will sen to method and next i will plot with pyplot.\n",
        "In addition, corr() function comes to handle dimensions anf the pyplot will create correlattion.\n",
        "normally, atrributes correlated will useful to know about variance in data."
      ]
    },
    {
      "cell_type": "code",
      "metadata": {
        "colab": {
          "base_uri": "https://localhost:8080/"
        },
        "id": "djzvTv9FXoAl",
        "outputId": "88fa5498-b6b8-42ea-9bef-c379fde199fa"
      },
      "source": [
        "# We first want to see if educationyears and incomeUSD are correlated. So, we pass both arrays into the function:\n",
        "corr_edUSD = top['energy'].corr(top['duration_ms'])\n",
        "corr_edUSD"
      ],
      "execution_count": null,
      "outputs": [
        {
          "output_type": "execute_result",
          "data": {
            "text/plain": [
              "0.07301712202030615"
            ]
          },
          "metadata": {
            "tags": []
          },
          "execution_count": 25
        }
      ]
    },
    {
      "cell_type": "code",
      "metadata": {
        "colab": {
          "base_uri": "https://localhost:8080/",
          "height": 295
        },
        "id": "YhLS47OWXx5-",
        "outputId": "0fa49d2f-788b-4978-8bfc-00172813d06a"
      },
      "source": [
        "# We can now plot this with pyplot\n",
        "plt.scatter(top['energy'], top['duration_ms'], alpha=0.5)\n",
        "plt.title('Scatter plot energy vs. duration_ms')\n",
        "plt.xlabel('energy')\n",
        "plt.ylabel('duration_ms')\n",
        "plt.show()"
      ],
      "execution_count": null,
      "outputs": [
        {
          "output_type": "display_data",
          "data": {
            "image/png": "[encoded data removed]",
            "text/plain": [
              "<Figure size 432x288 with 1 Axes>"
            ]
          },
          "metadata": {
            "tags": [],
            "needs_background": "light"
          }
        }
      ]
    },
    {
      "cell_type": "code",
      "metadata": {
        "colab": {
          "base_uri": "https://localhost:8080/",
          "height": 457
        },
        "id": "4jKmG0ukYRIx",
        "outputId": "f0507aa1-940d-4721-c957-e5bd7c1e81d2"
      },
      "source": [
        "# The power of the corr() function lies in its ability to handle multiple dimensions at the same time:\n",
        "corr = top.corr()\n",
        "corr"
      ],
      "execution_count": null,
      "outputs": [
        {
          "output_type": "execute_result",
          "data": {
            "text/html": [
              "<div>\n",
              "<style scoped>\n",
              "    .dataframe tbody tr th:only-of-type {\n",
              "        vertical-align: middle;\n",
              "    }\n",
              "\n",
              "    .dataframe tbody tr th {\n",
              "        vertical-align: top;\n",
              "    }\n",
              "\n",
              "    .dataframe thead th {\n",
              "        text-align: right;\n",
              "    }\n",
              "</style>\n",
              "<table border=\"1\" class=\"dataframe\">\n",
              "  <thead>\n",
              "    <tr style=\"text-align: right;\">\n",
              "      <th></th>\n",
              "      <th>danceability</th>\n",
              "      <th>energy</th>\n",
              "      <th>key</th>\n",
              "      <th>loudness</th>\n",
              "      <th>mode</th>\n",
              "      <th>speechiness</th>\n",
              "      <th>acousticness</th>\n",
              "      <th>instrumentalness</th>\n",
              "      <th>liveness</th>\n",
              "      <th>valence</th>\n",
              "      <th>tempo</th>\n",
              "      <th>duration_ms</th>\n",
              "      <th>time_signature</th>\n",
              "    </tr>\n",
              "  </thead>\n",
              "  <tbody>\n",
              "    <tr>\n",
              "      <th>danceability</th>\n",
              "      <td>1.000000</td>\n",
              "      <td>-0.072582</td>\n",
              "      <td>-0.051759</td>\n",
              "      <td>0.015517</td>\n",
              "      <td>-0.058019</td>\n",
              "      <td>0.227075</td>\n",
              "      <td>-0.134374</td>\n",
              "      <td>-0.066592</td>\n",
              "      <td>-0.038761</td>\n",
              "      <td>0.413855</td>\n",
              "      <td>-0.195012</td>\n",
              "      <td>-0.068368</td>\n",
              "      <td>0.119421</td>\n",
              "    </tr>\n",
              "    <tr>\n",
              "      <th>energy</th>\n",
              "      <td>-0.072582</td>\n",
              "      <td>1.000000</td>\n",
              "      <td>-0.136345</td>\n",
              "      <td>0.732719</td>\n",
              "      <td>-0.117555</td>\n",
              "      <td>-0.073591</td>\n",
              "      <td>-0.421209</td>\n",
              "      <td>0.093684</td>\n",
              "      <td>0.050542</td>\n",
              "      <td>0.382434</td>\n",
              "      <td>0.062272</td>\n",
              "      <td>0.073017</td>\n",
              "      <td>0.255235</td>\n",
              "    </tr>\n",
              "    <tr>\n",
              "      <th>key</th>\n",
              "      <td>-0.051759</td>\n",
              "      <td>-0.136345</td>\n",
              "      <td>1.000000</td>\n",
              "      <td>-0.105309</td>\n",
              "      <td>-0.141568</td>\n",
              "      <td>0.019583</td>\n",
              "      <td>0.141590</td>\n",
              "      <td>-0.136607</td>\n",
              "      <td>-0.125443</td>\n",
              "      <td>-0.032622</td>\n",
              "      <td>0.003737</td>\n",
              "      <td>0.046144</td>\n",
              "      <td>-0.087096</td>\n",
              "    </tr>\n",
              "    <tr>\n",
              "      <th>loudness</th>\n",
              "      <td>0.015517</td>\n",
              "      <td>0.732719</td>\n",
              "      <td>-0.105309</td>\n",
              "      <td>1.000000</td>\n",
              "      <td>-0.110178</td>\n",
              "      <td>-0.252037</td>\n",
              "      <td>-0.269742</td>\n",
              "      <td>0.036248</td>\n",
              "      <td>0.000006</td>\n",
              "      <td>0.407760</td>\n",
              "      <td>-0.035156</td>\n",
              "      <td>0.265310</td>\n",
              "      <td>0.072301</td>\n",
              "    </tr>\n",
              "    <tr>\n",
              "      <th>mode</th>\n",
              "      <td>-0.058019</td>\n",
              "      <td>-0.117555</td>\n",
              "      <td>-0.141568</td>\n",
              "      <td>-0.110178</td>\n",
              "      <td>1.000000</td>\n",
              "      <td>-0.150076</td>\n",
              "      <td>-0.030028</td>\n",
              "      <td>0.089667</td>\n",
              "      <td>0.024428</td>\n",
              "      <td>-0.210599</td>\n",
              "      <td>-0.011911</td>\n",
              "      <td>0.055411</td>\n",
              "      <td>-0.083782</td>\n",
              "    </tr>\n",
              "    <tr>\n",
              "      <th>speechiness</th>\n",
              "      <td>0.227075</td>\n",
              "      <td>-0.073591</td>\n",
              "      <td>0.019583</td>\n",
              "      <td>-0.252037</td>\n",
              "      <td>-0.150076</td>\n",
              "      <td>1.000000</td>\n",
              "      <td>-0.081536</td>\n",
              "      <td>-0.069543</td>\n",
              "      <td>-0.099379</td>\n",
              "      <td>-0.051054</td>\n",
              "      <td>0.102999</td>\n",
              "      <td>-0.009856</td>\n",
              "      <td>0.235615</td>\n",
              "    </tr>\n",
              "    <tr>\n",
              "      <th>acousticness</th>\n",
              "      <td>-0.134374</td>\n",
              "      <td>-0.421209</td>\n",
              "      <td>0.141590</td>\n",
              "      <td>-0.269742</td>\n",
              "      <td>-0.030028</td>\n",
              "      <td>-0.081536</td>\n",
              "      <td>1.000000</td>\n",
              "      <td>-0.089583</td>\n",
              "      <td>-0.150177</td>\n",
              "      <td>-0.020800</td>\n",
              "      <td>-0.158013</td>\n",
              "      <td>-0.069627</td>\n",
              "      <td>-0.158935</td>\n",
              "    </tr>\n",
              "    <tr>\n",
              "      <th>instrumentalness</th>\n",
              "      <td>-0.066592</td>\n",
              "      <td>0.093684</td>\n",
              "      <td>-0.136607</td>\n",
              "      <td>0.036248</td>\n",
              "      <td>0.089667</td>\n",
              "      <td>-0.069543</td>\n",
              "      <td>-0.089583</td>\n",
              "      <td>1.000000</td>\n",
              "      <td>-0.016249</td>\n",
              "      <td>-0.095123</td>\n",
              "      <td>0.178142</td>\n",
              "      <td>-0.045873</td>\n",
              "      <td>0.011894</td>\n",
              "    </tr>\n",
              "    <tr>\n",
              "      <th>liveness</th>\n",
              "      <td>-0.038761</td>\n",
              "      <td>0.050542</td>\n",
              "      <td>-0.125443</td>\n",
              "      <td>0.000006</td>\n",
              "      <td>0.024428</td>\n",
              "      <td>-0.099379</td>\n",
              "      <td>-0.150177</td>\n",
              "      <td>-0.016249</td>\n",
              "      <td>1.000000</td>\n",
              "      <td>-0.042612</td>\n",
              "      <td>-0.107652</td>\n",
              "      <td>-0.042942</td>\n",
              "      <td>-0.079558</td>\n",
              "    </tr>\n",
              "    <tr>\n",
              "      <th>valence</th>\n",
              "      <td>0.413855</td>\n",
              "      <td>0.382434</td>\n",
              "      <td>-0.032622</td>\n",
              "      <td>0.407760</td>\n",
              "      <td>-0.210599</td>\n",
              "      <td>-0.051054</td>\n",
              "      <td>-0.020800</td>\n",
              "      <td>-0.095123</td>\n",
              "      <td>-0.042612</td>\n",
              "      <td>1.000000</td>\n",
              "      <td>-0.148423</td>\n",
              "      <td>-0.131901</td>\n",
              "      <td>0.223410</td>\n",
              "    </tr>\n",
              "    <tr>\n",
              "      <th>tempo</th>\n",
              "      <td>-0.195012</td>\n",
              "      <td>0.062272</td>\n",
              "      <td>0.003737</td>\n",
              "      <td>-0.035156</td>\n",
              "      <td>-0.011911</td>\n",
              "      <td>0.102999</td>\n",
              "      <td>-0.158013</td>\n",
              "      <td>0.178142</td>\n",
              "      <td>-0.107652</td>\n",
              "      <td>-0.148423</td>\n",
              "      <td>1.000000</td>\n",
              "      <td>0.005493</td>\n",
              "      <td>0.090191</td>\n",
              "    </tr>\n",
              "    <tr>\n",
              "      <th>duration_ms</th>\n",
              "      <td>-0.068368</td>\n",
              "      <td>0.073017</td>\n",
              "      <td>0.046144</td>\n",
              "      <td>0.265310</td>\n",
              "      <td>0.055411</td>\n",
              "      <td>-0.009856</td>\n",
              "      <td>-0.069627</td>\n",
              "      <td>-0.045873</td>\n",
              "      <td>-0.042942</td>\n",
              "      <td>-0.131901</td>\n",
              "      <td>0.005493</td>\n",
              "      <td>1.000000</td>\n",
              "      <td>-0.102138</td>\n",
              "    </tr>\n",
              "    <tr>\n",
              "      <th>time_signature</th>\n",
              "      <td>0.119421</td>\n",
              "      <td>0.255235</td>\n",
              "      <td>-0.087096</td>\n",
              "      <td>0.072301</td>\n",
              "      <td>-0.083782</td>\n",
              "      <td>0.235615</td>\n",
              "      <td>-0.158935</td>\n",
              "      <td>0.011894</td>\n",
              "      <td>-0.079558</td>\n",
              "      <td>0.223410</td>\n",
              "      <td>0.090191</td>\n",
              "      <td>-0.102138</td>\n",
              "      <td>1.000000</td>\n",
              "    </tr>\n",
              "  </tbody>\n",
              "</table>\n",
              "</div>"
            ],
            "text/plain": [
              "                  danceability    energy  ...  duration_ms  time_signature\n",
              "danceability          1.000000 -0.072582  ...    -0.068368        0.119421\n",
              "energy               -0.072582  1.000000  ...     0.073017        0.255235\n",
              "key                  -0.051759 -0.136345  ...     0.046144       -0.087096\n",
              "loudness              0.015517  0.732719  ...     0.265310        0.072301\n",
              "mode                 -0.058019 -0.117555  ...     0.055411       -0.083782\n",
              "speechiness           0.227075 -0.073591  ...    -0.009856        0.235615\n",
              "acousticness         -0.134374 -0.421209  ...    -0.069627       -0.158935\n",
              "instrumentalness     -0.066592  0.093684  ...    -0.045873        0.011894\n",
              "liveness             -0.038761  0.050542  ...    -0.042942       -0.079558\n",
              "valence               0.413855  0.382434  ...    -0.131901        0.223410\n",
              "tempo                -0.195012  0.062272  ...     0.005493        0.090191\n",
              "duration_ms          -0.068368  0.073017  ...     1.000000       -0.102138\n",
              "time_signature        0.119421  0.255235  ...    -0.102138        1.000000\n",
              "\n",
              "[13 rows x 13 columns]"
            ]
          },
          "metadata": {
            "tags": []
          },
          "execution_count": 28
        }
      ]
    },
    {
      "cell_type": "code",
      "metadata": {
        "colab": {
          "base_uri": "https://localhost:8080/",
          "height": 348
        },
        "id": "CRuZvO4bYiiC",
        "outputId": "032ccd1f-97e3-4795-ba0a-6c27fc03f703"
      },
      "source": [
        "# Now we can make a pretty correlation heatmap with pyplot\n",
        "fig = plt.figure()\n",
        "ax = fig.add_subplot(111)\n",
        "cax = ax.matshow(corr,cmap='coolwarm', vmin=-1, vmax=1)\n",
        "fig.colorbar(cax)\n",
        "ticks = np.arange(0,len(corr.columns),1)\n",
        "ax.set_xticks(ticks)\n",
        "plt.xticks(rotation=90)\n",
        "ax.set_yticks(ticks)\n",
        "ax.set_xticklabels(corr.columns)\n",
        "ax.set_yticklabels(corr.columns)\n",
        "plt.show()"
      ],
      "execution_count": null,
      "outputs": [
        {
          "output_type": "display_data",
          "data": {
            "image/png": "[encoded data removed]",
            "text/plain": [
              "<Figure size 432x288 with 2 Axes>"
            ]
          },
          "metadata": {
            "tags": [],
            "needs_background": "light"
          }
        }
      ]
    }
  ]
}