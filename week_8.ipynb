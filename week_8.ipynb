{
  "nbformat": 4,
  "nbformat_minor": 0,
  "metadata": {
    "colab": {
      "name": "week 8",
      "provenance": [],
      "collapsed_sections": [],
      "include_colab_link": true
    },
    "kernelspec": {
      "name": "python3",
      "display_name": "Python 3"
    },
    "language_info": {
      "name": "python"
    }
  },
  "cells": [
    {
      "cell_type": "markdown",
      "metadata": {
        "id": "view-in-github",
        "colab_type": "text"
      },
      "source": [
        "<a href=\"https://colab.research.google.com/github/venabhi/chebrolu_IT533/blob/main/week_8.ipynb\" target=\"_parent\"><img src=\"https://colab.research.google.com/assets/colab-badge.svg\" alt=\"Open In Colab\"/></a>"
      ]
    },
    {
      "cell_type": "code",
      "metadata": {
        "id": "NEWsuYEElyu1"
      },
      "source": [
        "import pandas as pd\n",
        "import numpy as np\n",
        "import seaborn as sns\n",
        "import matplotlib.pyplot as plt\n",
        "from sklearn.model_selection import train_test_split\n",
        "from sklearn.neighbors import KNeighborsClassifier\n",
        "from sklearn.metrics import confusion_matrix\n",
        "from sklearn.metrics import accuracy_score\n",
        "from sklearn.metrics import classification_report\n",
        "%matplotlib inline\n",
        "#Reading in the data as insurance dataframe\n",
        "top = pd.read_csv(\"https://raw.githubusercontent.com/venabhi/chebrolu_IT533/main/top2018.csv\")"
      ],
      "execution_count": null,
      "outputs": []
    },
    {
      "cell_type": "code",
      "metadata": {
        "colab": {
          "base_uri": "https://localhost:8080/",
          "height": 347
        },
        "id": "OaVT2teVl1BL",
        "outputId": "9553d897-61c4-4531-fb1a-6118ceb6e562"
      },
      "source": [
        "top.head ()"
      ],
      "execution_count": null,
      "outputs": [
        {
          "output_type": "execute_result",
          "data": {
            "text/html": [
              "<div>\n",
              "<style scoped>\n",
              "    .dataframe tbody tr th:only-of-type {\n",
              "        vertical-align: middle;\n",
              "    }\n",
              "\n",
              "    .dataframe tbody tr th {\n",
              "        vertical-align: top;\n",
              "    }\n",
              "\n",
              "    .dataframe thead th {\n",
              "        text-align: right;\n",
              "    }\n",
              "</style>\n",
              "<table border=\"1\" class=\"dataframe\">\n",
              "  <thead>\n",
              "    <tr style=\"text-align: right;\">\n",
              "      <th></th>\n",
              "      <th>id</th>\n",
              "      <th>name</th>\n",
              "      <th>artists</th>\n",
              "      <th>danceability</th>\n",
              "      <th>energy</th>\n",
              "      <th>key</th>\n",
              "      <th>loudness</th>\n",
              "      <th>mode</th>\n",
              "      <th>speechiness</th>\n",
              "      <th>acousticness</th>\n",
              "      <th>instrumentalness</th>\n",
              "      <th>liveness</th>\n",
              "      <th>valence</th>\n",
              "      <th>tempo</th>\n",
              "      <th>duration_ms</th>\n",
              "      <th>time_signature</th>\n",
              "    </tr>\n",
              "  </thead>\n",
              "  <tbody>\n",
              "    <tr>\n",
              "      <th>0</th>\n",
              "      <td>6DCZcSspjsKoFjzjrWoCd</td>\n",
              "      <td>God's Plan</td>\n",
              "      <td>Drake</td>\n",
              "      <td>0.754</td>\n",
              "      <td>0.449</td>\n",
              "      <td>7.0</td>\n",
              "      <td>-9.211</td>\n",
              "      <td>1.0</td>\n",
              "      <td>0.1090</td>\n",
              "      <td>0.0332</td>\n",
              "      <td>0.000083</td>\n",
              "      <td>0.552</td>\n",
              "      <td>0.357</td>\n",
              "      <td>77.169</td>\n",
              "      <td>198973.0</td>\n",
              "      <td>4.0</td>\n",
              "    </tr>\n",
              "    <tr>\n",
              "      <th>1</th>\n",
              "      <td>3ee8Jmje8o58CHK66QrVC</td>\n",
              "      <td>SAD!</td>\n",
              "      <td>XXXTENTACION</td>\n",
              "      <td>0.740</td>\n",
              "      <td>0.613</td>\n",
              "      <td>8.0</td>\n",
              "      <td>-4.880</td>\n",
              "      <td>1.0</td>\n",
              "      <td>0.1450</td>\n",
              "      <td>0.2580</td>\n",
              "      <td>0.003720</td>\n",
              "      <td>0.123</td>\n",
              "      <td>0.473</td>\n",
              "      <td>75.023</td>\n",
              "      <td>166606.0</td>\n",
              "      <td>4.0</td>\n",
              "    </tr>\n",
              "    <tr>\n",
              "      <th>2</th>\n",
              "      <td>0e7ipj03S05BNilyu5bRz</td>\n",
              "      <td>rockstar (feat. 21 Savage)</td>\n",
              "      <td>Post Malone</td>\n",
              "      <td>0.587</td>\n",
              "      <td>0.535</td>\n",
              "      <td>5.0</td>\n",
              "      <td>-6.090</td>\n",
              "      <td>0.0</td>\n",
              "      <td>0.0898</td>\n",
              "      <td>0.1170</td>\n",
              "      <td>0.000066</td>\n",
              "      <td>0.131</td>\n",
              "      <td>0.140</td>\n",
              "      <td>159.847</td>\n",
              "      <td>218147.0</td>\n",
              "      <td>4.0</td>\n",
              "    </tr>\n",
              "    <tr>\n",
              "      <th>3</th>\n",
              "      <td>3swc6WTsr7rl9DqQKQA55</td>\n",
              "      <td>Psycho (feat. Ty Dolla $ign)</td>\n",
              "      <td>Post Malone</td>\n",
              "      <td>0.739</td>\n",
              "      <td>0.559</td>\n",
              "      <td>8.0</td>\n",
              "      <td>-8.011</td>\n",
              "      <td>1.0</td>\n",
              "      <td>0.1170</td>\n",
              "      <td>0.5800</td>\n",
              "      <td>0.000000</td>\n",
              "      <td>0.112</td>\n",
              "      <td>0.439</td>\n",
              "      <td>140.124</td>\n",
              "      <td>221440.0</td>\n",
              "      <td>4.0</td>\n",
              "    </tr>\n",
              "    <tr>\n",
              "      <th>4</th>\n",
              "      <td>2G7V7zsVDxg1yRsu7Ew9R</td>\n",
              "      <td>In My Feelings</td>\n",
              "      <td>Drake</td>\n",
              "      <td>0.835</td>\n",
              "      <td>0.626</td>\n",
              "      <td>1.0</td>\n",
              "      <td>-5.833</td>\n",
              "      <td>1.0</td>\n",
              "      <td>0.1250</td>\n",
              "      <td>0.0589</td>\n",
              "      <td>0.000060</td>\n",
              "      <td>0.396</td>\n",
              "      <td>0.350</td>\n",
              "      <td>91.030</td>\n",
              "      <td>217925.0</td>\n",
              "      <td>4.0</td>\n",
              "    </tr>\n",
              "  </tbody>\n",
              "</table>\n",
              "</div>"
            ],
            "text/plain": [
              "                      id  ... time_signature\n",
              "0  6DCZcSspjsKoFjzjrWoCd  ...            4.0\n",
              "1  3ee8Jmje8o58CHK66QrVC  ...            4.0\n",
              "2  0e7ipj03S05BNilyu5bRz  ...            4.0\n",
              "3  3swc6WTsr7rl9DqQKQA55  ...            4.0\n",
              "4  2G7V7zsVDxg1yRsu7Ew9R  ...            4.0\n",
              "\n",
              "[5 rows x 16 columns]"
            ]
          },
          "metadata": {
            "tags": []
          },
          "execution_count": 2
        }
      ]
    },
    {
      "cell_type": "code",
      "metadata": {
        "colab": {
          "base_uri": "https://localhost:8080/"
        },
        "id": "dV0hjk6tmmtk",
        "outputId": "46fb9ee9-d432-4a0c-9922-8c9f3836ee8c"
      },
      "source": [
        "top.info()"
      ],
      "execution_count": null,
      "outputs": [
        {
          "output_type": "stream",
          "text": [
            "<class 'pandas.core.frame.DataFrame'>\n",
            "RangeIndex: 100 entries, 0 to 99\n",
            "Data columns (total 16 columns):\n",
            " #   Column            Non-Null Count  Dtype  \n",
            "---  ------            --------------  -----  \n",
            " 0   id                100 non-null    object \n",
            " 1   name              100 non-null    object \n",
            " 2   artists           100 non-null    object \n",
            " 3   danceability      100 non-null    float64\n",
            " 4   energy            100 non-null    float64\n",
            " 5   key               100 non-null    float64\n",
            " 6   loudness          100 non-null    float64\n",
            " 7   mode              100 non-null    float64\n",
            " 8   speechiness       100 non-null    float64\n",
            " 9   acousticness      100 non-null    float64\n",
            " 10  instrumentalness  100 non-null    float64\n",
            " 11  liveness          100 non-null    float64\n",
            " 12  valence           100 non-null    float64\n",
            " 13  tempo             100 non-null    float64\n",
            " 14  duration_ms       100 non-null    float64\n",
            " 15  time_signature    100 non-null    float64\n",
            "dtypes: float64(13), object(3)\n",
            "memory usage: 12.6+ KB\n"
          ],
          "name": "stdout"
        }
      ]
    },
    {
      "cell_type": "code",
      "metadata": {
        "id": "pVd56PkymwdV"
      },
      "source": [
        "X = top[['energy','key','loudness','danceability','speechiness','acousticness','instrumentalness','liveness','valence','tempo','duration_ms','time_signature']] \n",
        "y = top['mode']"
      ],
      "execution_count": null,
      "outputs": []
    },
    {
      "cell_type": "code",
      "metadata": {
        "id": "uU6mA4KzmytQ"
      },
      "source": [
        "from sklearn.model_selection import train_test_split\n",
        "X_train, X_test, y_train, y_test = train_test_split(X, y, test_size=0.34, random_state=42)"
      ],
      "execution_count": null,
      "outputs": []
    },
    {
      "cell_type": "code",
      "metadata": {
        "id": "xqml5JNfpiI2"
      },
      "source": [
        "import tensorflow as tf\n",
        "from tensorflow.keras.models import Sequential\n",
        "from tensorflow.keras.layers import Dense, Activation,Dropout"
      ],
      "execution_count": null,
      "outputs": []
    },
    {
      "cell_type": "code",
      "metadata": {
        "id": "Hw9IccL0pRd9"
      },
      "source": [
        "model = Sequential()\n",
        "\n",
        "model.add(Dense(units=4,activation='relu'))\n",
        "model.add(Dense(units=2,activation='relu'))\n",
        "\n",
        "model.add(Dense(units=1,activation='sigmoid'))\n",
        "\n",
        "# For a binary classification problem\n",
        "model.compile(loss='binary_crossentropy', optimizer='adam')"
      ],
      "execution_count": null,
      "outputs": []
    },
    {
      "cell_type": "code",
      "metadata": {
        "colab": {
          "base_uri": "https://localhost:8080/"
        },
        "id": "mAexvS32pSBn",
        "outputId": "c5d0a1ae-33e6-444a-aacb-c4f7ed2f5fa9"
      },
      "source": [
        "#Training the Model\n",
        "\n",
        "model.fit(x=X_train,y=y_train,epochs=100,validation_data=(X_test, y_test),verbose=1)"
      ],
      "execution_count": null,
      "outputs": [
        {
          "output_type": "stream",
          "text": [
            "Epoch 1/100\n",
            "3/3 [==============================] - 1s 159ms/step - loss: 26012.9805 - val_loss: 27754.9355\n",
            "Epoch 2/100\n",
            "3/3 [==============================] - 0s 13ms/step - loss: 25490.5742 - val_loss: 27192.0234\n",
            "Epoch 3/100\n",
            "3/3 [==============================] - 0s 11ms/step - loss: 24970.1387 - val_loss: 26644.6445\n",
            "Epoch 4/100\n",
            "3/3 [==============================] - 0s 12ms/step - loss: 24467.2441 - val_loss: 26103.6562\n",
            "Epoch 5/100\n",
            "3/3 [==============================] - 0s 12ms/step - loss: 23970.4941 - val_loss: 25564.9258\n",
            "Epoch 6/100\n",
            "3/3 [==============================] - 0s 11ms/step - loss: 23471.8281 - val_loss: 25035.1953\n",
            "Epoch 7/100\n",
            "3/3 [==============================] - 0s 14ms/step - loss: 22999.1777 - val_loss: 24505.7539\n",
            "Epoch 8/100\n",
            "3/3 [==============================] - 0s 19ms/step - loss: 22505.5723 - val_loss: 23985.3281\n",
            "Epoch 9/100\n",
            "3/3 [==============================] - 0s 17ms/step - loss: 22023.2012 - val_loss: 23465.5254\n",
            "Epoch 10/100\n",
            "3/3 [==============================] - 0s 14ms/step - loss: 21548.8535 - val_loss: 22951.1133\n",
            "Epoch 11/100\n",
            "3/3 [==============================] - 0s 14ms/step - loss: 21086.4492 - val_loss: 22449.8691\n",
            "Epoch 12/100\n",
            "3/3 [==============================] - 0s 14ms/step - loss: 20620.5215 - val_loss: 21983.2969\n",
            "Epoch 13/100\n",
            "3/3 [==============================] - 0s 14ms/step - loss: 20194.7559 - val_loss: 21553.1641\n",
            "Epoch 14/100\n",
            "3/3 [==============================] - 0s 16ms/step - loss: 19797.1855 - val_loss: 21124.9531\n",
            "Epoch 15/100\n",
            "3/3 [==============================] - 0s 14ms/step - loss: 19414.5508 - val_loss: 20690.5488\n",
            "Epoch 16/100\n",
            "3/3 [==============================] - 0s 13ms/step - loss: 19012.3672 - val_loss: 20266.2500\n",
            "Epoch 17/100\n",
            "3/3 [==============================] - 0s 16ms/step - loss: 18620.2832 - val_loss: 19846.3594\n",
            "Epoch 18/100\n",
            "3/3 [==============================] - 0s 15ms/step - loss: 18224.4277 - val_loss: 19430.1738\n",
            "Epoch 19/100\n",
            "3/3 [==============================] - 0s 13ms/step - loss: 17848.0137 - val_loss: 18999.1094\n",
            "Epoch 20/100\n",
            "3/3 [==============================] - 0s 21ms/step - loss: 17442.3184 - val_loss: 18574.8359\n",
            "Epoch 21/100\n",
            "3/3 [==============================] - 0s 15ms/step - loss: 17049.6465 - val_loss: 18168.4453\n",
            "Epoch 22/100\n",
            "3/3 [==============================] - 0s 16ms/step - loss: 16679.3691 - val_loss: 17760.8359\n",
            "Epoch 23/100\n",
            "3/3 [==============================] - 0s 17ms/step - loss: 16287.8467 - val_loss: 17350.0410\n",
            "Epoch 24/100\n",
            "3/3 [==============================] - 0s 24ms/step - loss: 15929.0762 - val_loss: 16942.2285\n",
            "Epoch 25/100\n",
            "3/3 [==============================] - 0s 16ms/step - loss: 15547.4004 - val_loss: 16549.9590\n",
            "Epoch 26/100\n",
            "3/3 [==============================] - 0s 18ms/step - loss: 15185.7852 - val_loss: 16163.8350\n",
            "Epoch 27/100\n",
            "3/3 [==============================] - 0s 12ms/step - loss: 14844.1289 - val_loss: 15807.0518\n",
            "Epoch 28/100\n",
            "3/3 [==============================] - 0s 14ms/step - loss: 14512.8213 - val_loss: 15474.4082\n",
            "Epoch 29/100\n",
            "3/3 [==============================] - 0s 12ms/step - loss: 14213.8662 - val_loss: 15139.3086\n",
            "Epoch 30/100\n",
            "3/3 [==============================] - 0s 11ms/step - loss: 13897.9570 - val_loss: 14808.3584\n",
            "Epoch 31/100\n",
            "3/3 [==============================] - 0s 16ms/step - loss: 13589.7100 - val_loss: 14479.8477\n",
            "Epoch 32/100\n",
            "3/3 [==============================] - 0s 14ms/step - loss: 13299.9033 - val_loss: 14177.6084\n",
            "Epoch 33/100\n",
            "3/3 [==============================] - 0s 13ms/step - loss: 13014.9014 - val_loss: 13878.1768\n",
            "Epoch 34/100\n",
            "3/3 [==============================] - 0s 14ms/step - loss: 12738.0469 - val_loss: 13572.6562\n",
            "Epoch 35/100\n",
            "3/3 [==============================] - 0s 15ms/step - loss: 12462.6797 - val_loss: 13267.6914\n",
            "Epoch 36/100\n",
            "3/3 [==============================] - 0s 15ms/step - loss: 12178.1875 - val_loss: 12956.5518\n",
            "Epoch 37/100\n",
            "3/3 [==============================] - 0s 16ms/step - loss: 11895.0322 - val_loss: 12651.4736\n",
            "Epoch 38/100\n",
            "3/3 [==============================] - 0s 14ms/step - loss: 11612.7568 - val_loss: 12353.0938\n",
            "Epoch 39/100\n",
            "3/3 [==============================] - 0s 18ms/step - loss: 11337.2148 - val_loss: 12049.0078\n",
            "Epoch 40/100\n",
            "3/3 [==============================] - 0s 14ms/step - loss: 11055.4814 - val_loss: 11750.7344\n",
            "Epoch 41/100\n",
            "3/3 [==============================] - 0s 16ms/step - loss: 10787.6094 - val_loss: 11505.4688\n",
            "Epoch 42/100\n",
            "3/3 [==============================] - 0s 14ms/step - loss: 10577.4531 - val_loss: 11325.5215\n",
            "Epoch 43/100\n",
            "3/3 [==============================] - 0s 17ms/step - loss: 10419.0566 - val_loss: 11161.8984\n",
            "Epoch 44/100\n",
            "3/3 [==============================] - 0s 14ms/step - loss: 10264.7061 - val_loss: 11003.5391\n",
            "Epoch 45/100\n",
            "3/3 [==============================] - 0s 16ms/step - loss: 10112.8906 - val_loss: 10836.0547\n",
            "Epoch 46/100\n",
            "3/3 [==============================] - 0s 14ms/step - loss: 9964.4844 - val_loss: 10670.7520\n",
            "Epoch 47/100\n",
            "3/3 [==============================] - 0s 16ms/step - loss: 9805.7695 - val_loss: 10512.8359\n",
            "Epoch 48/100\n",
            "3/3 [==============================] - 0s 16ms/step - loss: 9663.7344 - val_loss: 10344.1064\n",
            "Epoch 49/100\n",
            "3/3 [==============================] - 0s 14ms/step - loss: 9509.4375 - val_loss: 10179.4551\n",
            "Epoch 50/100\n",
            "3/3 [==============================] - 0s 14ms/step - loss: 9359.0889 - val_loss: 10022.2910\n",
            "Epoch 51/100\n",
            "3/3 [==============================] - 0s 15ms/step - loss: 9218.1475 - val_loss: 9863.6875\n",
            "Epoch 52/100\n",
            "3/3 [==============================] - 0s 16ms/step - loss: 9068.2197 - val_loss: 9718.0254\n",
            "Epoch 53/100\n",
            "3/3 [==============================] - 0s 17ms/step - loss: 8932.9980 - val_loss: 9570.4805\n",
            "Epoch 54/100\n",
            "3/3 [==============================] - 0s 15ms/step - loss: 8797.0693 - val_loss: 9417.2393\n",
            "Epoch 55/100\n",
            "3/3 [==============================] - 0s 15ms/step - loss: 8660.3164 - val_loss: 9268.2607\n",
            "Epoch 56/100\n",
            "3/3 [==============================] - 0s 13ms/step - loss: 8517.9814 - val_loss: 9120.9453\n",
            "Epoch 57/100\n",
            "3/3 [==============================] - 0s 18ms/step - loss: 8381.6768 - val_loss: 8970.8232\n",
            "Epoch 58/100\n",
            "3/3 [==============================] - 0s 14ms/step - loss: 8245.0283 - val_loss: 8829.3662\n",
            "Epoch 59/100\n",
            "3/3 [==============================] - 0s 16ms/step - loss: 8117.1108 - val_loss: 8696.2207\n",
            "Epoch 60/100\n",
            "3/3 [==============================] - 0s 19ms/step - loss: 7993.5938 - val_loss: 8562.8105\n",
            "Epoch 61/100\n",
            "3/3 [==============================] - 0s 16ms/step - loss: 7871.8589 - val_loss: 8431.2500\n",
            "Epoch 62/100\n",
            "3/3 [==============================] - 0s 16ms/step - loss: 7747.5474 - val_loss: 8299.4307\n",
            "Epoch 63/100\n",
            "3/3 [==============================] - 0s 16ms/step - loss: 7630.8091 - val_loss: 8167.4082\n",
            "Epoch 64/100\n",
            "3/3 [==============================] - 0s 13ms/step - loss: 7509.0356 - val_loss: 8041.4927\n",
            "Epoch 65/100\n",
            "3/3 [==============================] - 0s 15ms/step - loss: 7393.9609 - val_loss: 7915.0825\n",
            "Epoch 66/100\n",
            "3/3 [==============================] - 0s 15ms/step - loss: 7279.5229 - val_loss: 7796.6196\n",
            "Epoch 67/100\n",
            "3/3 [==============================] - 0s 16ms/step - loss: 7167.6802 - val_loss: 7676.9116\n",
            "Epoch 68/100\n",
            "3/3 [==============================] - 0s 21ms/step - loss: 7058.0752 - val_loss: 7555.0439\n",
            "Epoch 69/100\n",
            "3/3 [==============================] - 0s 15ms/step - loss: 6944.2656 - val_loss: 7437.8345\n",
            "Epoch 70/100\n",
            "3/3 [==============================] - 0s 15ms/step - loss: 6838.2280 - val_loss: 7320.8833\n",
            "Epoch 71/100\n",
            "3/3 [==============================] - 0s 13ms/step - loss: 6729.7612 - val_loss: 7208.1040\n",
            "Epoch 72/100\n",
            "3/3 [==============================] - 0s 16ms/step - loss: 6629.9390 - val_loss: 7103.8896\n",
            "Epoch 73/100\n",
            "3/3 [==============================] - 0s 15ms/step - loss: 6532.0391 - val_loss: 7001.6147\n",
            "Epoch 74/100\n",
            "3/3 [==============================] - 0s 15ms/step - loss: 6435.8193 - val_loss: 6890.7041\n",
            "Epoch 75/100\n",
            "3/3 [==============================] - 0s 17ms/step - loss: 6333.7510 - val_loss: 6776.4839\n",
            "Epoch 76/100\n",
            "3/3 [==============================] - 0s 17ms/step - loss: 6226.6362 - val_loss: 6666.3657\n",
            "Epoch 77/100\n",
            "3/3 [==============================] - 0s 15ms/step - loss: 6124.4893 - val_loss: 6555.0430\n",
            "Epoch 78/100\n",
            "3/3 [==============================] - 0s 22ms/step - loss: 6021.0518 - val_loss: 6438.0449\n",
            "Epoch 79/100\n",
            "3/3 [==============================] - 0s 13ms/step - loss: 5918.0210 - val_loss: 6326.6011\n",
            "Epoch 80/100\n",
            "3/3 [==============================] - 0s 18ms/step - loss: 5814.8013 - val_loss: 6223.6948\n",
            "Epoch 81/100\n",
            "3/3 [==============================] - 0s 13ms/step - loss: 5719.9951 - val_loss: 6118.1592\n",
            "Epoch 82/100\n",
            "3/3 [==============================] - 0s 15ms/step - loss: 5620.3359 - val_loss: 6008.5488\n",
            "Epoch 83/100\n",
            "3/3 [==============================] - 0s 14ms/step - loss: 5519.7900 - val_loss: 5899.6592\n",
            "Epoch 84/100\n",
            "3/3 [==============================] - 0s 14ms/step - loss: 5423.1069 - val_loss: 5793.1113\n",
            "Epoch 85/100\n",
            "3/3 [==============================] - 0s 15ms/step - loss: 5320.8975 - val_loss: 5694.0513\n",
            "Epoch 86/100\n",
            "3/3 [==============================] - 0s 18ms/step - loss: 5231.9497 - val_loss: 5590.9761\n",
            "Epoch 87/100\n",
            "3/3 [==============================] - 0s 17ms/step - loss: 5138.6377 - val_loss: 5488.8335\n",
            "Epoch 88/100\n",
            "3/3 [==============================] - 0s 15ms/step - loss: 5043.4175 - val_loss: 5394.6279\n",
            "Epoch 89/100\n",
            "3/3 [==============================] - 0s 17ms/step - loss: 4957.6724 - val_loss: 5305.0210\n",
            "Epoch 90/100\n",
            "3/3 [==============================] - 0s 14ms/step - loss: 4873.7300 - val_loss: 5211.1182\n",
            "Epoch 91/100\n",
            "3/3 [==============================] - 0s 19ms/step - loss: 4786.6484 - val_loss: 5116.4146\n",
            "Epoch 92/100\n",
            "3/3 [==============================] - 0s 15ms/step - loss: 4699.5708 - val_loss: 5025.8574\n",
            "Epoch 93/100\n",
            "3/3 [==============================] - 0s 16ms/step - loss: 4617.2534 - val_loss: 4935.5527\n",
            "Epoch 94/100\n",
            "3/3 [==============================] - 0s 16ms/step - loss: 4533.3110 - val_loss: 4841.8438\n",
            "Epoch 95/100\n",
            "3/3 [==============================] - 0s 14ms/step - loss: 4448.2241 - val_loss: 4750.5977\n",
            "Epoch 96/100\n",
            "3/3 [==============================] - 0s 16ms/step - loss: 4366.5479 - val_loss: 4666.8730\n",
            "Epoch 97/100\n",
            "3/3 [==============================] - 0s 17ms/step - loss: 4289.6826 - val_loss: 4587.3262\n",
            "Epoch 98/100\n",
            "3/3 [==============================] - 0s 16ms/step - loss: 4214.2466 - val_loss: 4510.9951\n",
            "Epoch 99/100\n",
            "3/3 [==============================] - 0s 14ms/step - loss: 4145.5879 - val_loss: 4430.7070\n",
            "Epoch 100/100\n",
            "3/3 [==============================] - 0s 16ms/step - loss: 4072.6604 - val_loss: 4352.5737\n"
          ],
          "name": "stdout"
        },
        {
          "output_type": "execute_result",
          "data": {
            "text/plain": [
              "<tensorflow.python.keras.callbacks.History at 0x7f4d8cdbd250>"
            ]
          },
          "metadata": {
            "tags": []
          },
          "execution_count": 13
        }
      ]
    },
    {
      "cell_type": "code",
      "metadata": {
        "colab": {
          "base_uri": "https://localhost:8080/"
        },
        "id": "mUUHvUUhqRFT",
        "outputId": "057ce107-fc3c-4e89-e5e0-281a46098240"
      },
      "source": [
        "nn_pred = model.predict_classes(X_test)"
      ],
      "execution_count": null,
      "outputs": [
        {
          "output_type": "stream",
          "text": [
            "/usr/local/lib/python3.7/dist-packages/tensorflow/python/keras/engine/sequential.py:455: UserWarning: `model.predict_classes()` is deprecated and will be removed after 2021-01-01. Please use instead:* `np.argmax(model.predict(x), axis=-1)`,   if your model does multi-class classification   (e.g. if it uses a `softmax` last-layer activation).* `(model.predict(x) > 0.5).astype(\"int32\")`,   if your model does binary classification   (e.g. if it uses a `sigmoid` last-layer activation).\n",
            "  warnings.warn('`model.predict_classes()` is deprecated and '\n"
          ],
          "name": "stderr"
        }
      ]
    },
    {
      "cell_type": "code",
      "metadata": {
        "colab": {
          "base_uri": "https://localhost:8080/"
        },
        "id": "lUkkCsY8qUTl",
        "outputId": "7b328157-02f1-4776-bbe0-780697006e6f"
      },
      "source": [
        "print(classification_report(y_test,nn_pred))\n",
        "print(confusion_matrix(y_test,nn_pred))"
      ],
      "execution_count": null,
      "outputs": [
        {
          "output_type": "stream",
          "text": [
            "              precision    recall  f1-score   support\n",
            "\n",
            "         0.0       0.00      0.00      0.00        13\n",
            "         1.0       0.62      1.00      0.76        21\n",
            "\n",
            "    accuracy                           0.62        34\n",
            "   macro avg       0.31      0.50      0.38        34\n",
            "weighted avg       0.38      0.62      0.47        34\n",
            "\n",
            "[[ 0 13]\n",
            " [ 0 21]]\n"
          ],
          "name": "stdout"
        },
        {
          "output_type": "stream",
          "text": [
            "/usr/local/lib/python3.7/dist-packages/sklearn/metrics/_classification.py:1272: UndefinedMetricWarning: Precision and F-score are ill-defined and being set to 0.0 in labels with no predicted samples. Use `zero_division` parameter to control this behavior.\n",
            "  _warn_prf(average, modifier, msg_start, len(result))\n"
          ],
          "name": "stderr"
        }
      ]
    },
    {
      "cell_type": "code",
      "metadata": {
        "id": "upFeB_ylpqAw"
      },
      "source": [
        "# Logistic Regression on  Dataset\n",
        "from random import seed\n",
        "from random import randrange\n",
        "from csv import reader\n",
        "from math import exp\n",
        " \n",
        "# Find the min and max values for each column\n",
        "def dataset_minmax(dataset):\n",
        "\tminmax = list()\n",
        "\tfor i in range(len(dataset[0])):\n",
        "\t\tcol_values = [row[i] for row in dataset]\n",
        "\t\tvalue_min = min(col_values)\n",
        "\t\tvalue_max = max(col_values)\n",
        "\t\tminmax.append([value_min, value_max])\n",
        "\treturn minmax\n",
        " \n",
        "# Rescale dataset columns to the range 0-1\n",
        "def normalize_dataset(dataset, minmax):\n",
        "\tfor row in dataset:\n",
        "\t\tfor i in range(len(row)):\n",
        "\t\t\trow[i] = (row[i] - minmax[i][0]) / (minmax[i][1] - minmax[i][0])\n",
        " \n",
        "# Split a dataset into k folds\n",
        "def cross_validation_split(dataset, n_folds):\n",
        "\tdataset_split = list()\n",
        "\tdataset_copy = list(dataset)\n",
        "\tfold_size = int(len(dataset) / n_folds)\n",
        "\tfor i in range(n_folds):\n",
        "\t\tfold = list()\n",
        "\t\twhile len(fold) < fold_size:\n",
        "\t\t\tindex = randrange(len(dataset_copy))\n",
        "\t\t\tfold.append(dataset_copy.pop(index))\n",
        "\t\tdataset_split.append(fold)\n",
        "\treturn dataset_split\n",
        " \n",
        "# Calculate accuracy percentage\n",
        "def accuracy_metric(actual, predicted):\n",
        "\tcorrect = 0\n",
        "\tfor i in range(len(actual)):\n",
        "\t\tif actual[i] == predicted[i]:\n",
        "\t\t\tcorrect += 1\n",
        "\treturn correct / float(len(actual)) * 100.0\n",
        " \n",
        "# Evaluate an algorithm using a cross validation split\n",
        "def evaluate_algorithm(dataset, algorithm, n_folds, *args):\n",
        "\tfolds = cross_validation_split(dataset, n_folds)\n",
        "\tscores = list()\n",
        "\tfor fold in folds:\n",
        "\t\ttrain_set = list(folds)\n",
        "\t\ttrain_set.remove(fold)\n",
        "\t\ttrain_set = sum(train_set, [])\n",
        "\t\ttest_set = list()\n",
        "\t\tfor row in fold:\n",
        "\t\t\trow_copy = list(row)\n",
        "\t\t\ttest_set.append(row_copy)\n",
        "\t\t\trow_copy[-1] = None\n",
        "\t\tpredicted = algorithm(train_set, test_set, *args)\n",
        "\t\tactual = [row[-1] for row in fold]\n",
        "\t\taccuracy = accuracy_metric(actual, predicted)\n",
        "\t\tscores.append(accuracy)\n",
        "\treturn scores\n",
        " \n",
        "# Make a prediction with coefficients\n",
        "def predict(row, coefficients):\n",
        "\tyhat = coefficients[0]\n",
        "\tfor i in range(len(row)-1):\n",
        "\t\tyhat += coefficients[i + 1] * row[i]\n",
        "\treturn 1.0 / (1.0 + exp(-yhat))\n",
        " \n",
        "# Estimate logistic regression coefficients using stochastic gradient descent\n",
        "def coefficients_sgd(train, l_rate, n_epoch):\n",
        "\tcoef = [0.0 for i in range(len(train[0]))]\n",
        "\tfor epoch in range(n_epoch):\n",
        "\t\tfor row in train:\n",
        "\t\t\tyhat = predict(row, coef)\n",
        "\t\t\terror = row[-1] - yhat\n",
        "\t\t\tcoef[0] = coef[0] + l_rate * error * yhat * (1.0 - yhat)\n",
        "\t\t\tfor i in range(len(row)-1):\n",
        "\t\t\t\tcoef[i + 1] = coef[i + 1] + l_rate * error * yhat * (1.0 - yhat) * row[i]\n",
        "\treturn coef\n",
        " \n",
        "# Linear Regression Algorithm With Stochastic Gradient Descent\n",
        "def logistic_regression(train, test, l_rate, n_epoch):\n",
        "\tpredictions = list()\n",
        "\tcoef = coefficients_sgd(train, l_rate, n_epoch)\n",
        "\tfor row in test:\n",
        "\t\tyhat = predict(row, coef)\n",
        "\t\tyhat = round(yhat)\n",
        "\t\tpredictions.append(yhat)\n",
        "\treturn(predictions)\n",
        " \n",
        "# Test the logistic regression algorithm on the dataset\n",
        "\n",
        "for i in range(len(dataset[0])):\n",
        "\tstr_column_to_float(dataset, i)\n",
        "# normalize\n",
        "minmax = dataset_minmax(dataset)\n",
        "normalize_dataset(dataset, minmax)\n",
        "# evaluate algorithm\n",
        "n_folds = 5\n",
        "l_rate = 0.1\n",
        "n_epoch = 100\n",
        "scores = evaluate_algorithm(dataset, logistic_regression, n_folds, l_rate, n_epoch)\n",
        "print('Scores: %s' % scores)\n",
        "print('Mean Accuracy: %.3f%%' % (sum(scores)/float(len(scores))))"
      ],
      "execution_count": null,
      "outputs": []
    },
    {
      "cell_type": "code",
      "metadata": {
        "id": "Lu7ND8LEp3EV"
      },
      "source": [
        ""
      ],
      "execution_count": null,
      "outputs": []
    },
    {
      "cell_type": "code",
      "metadata": {
        "id": "4uEg9PUap9JK"
      },
      "source": [
        ""
      ],
      "execution_count": null,
      "outputs": []
    }
  ]
}