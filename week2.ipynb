{
  "nbformat": 4,
  "nbformat_minor": 0,
  "metadata": {
    "colab": {
      "name": "Untitled0.ipynb",
      "provenance": [],
      "collapsed_sections": [],
      "authorship_tag": "ABX9TyPP2VqyGZyM8k/qyXL0x9iA",
      "include_colab_link": true
    },
    "kernelspec": {
      "name": "python3",
      "display_name": "Python 3"
    },
    "language_info": {
      "name": "python"
    }
  },
  "cells": [
    {
      "cell_type": "markdown",
      "metadata": {
        "id": "view-in-github",
        "colab_type": "text"
      },
      "source": [
        "<a href=\"https://colab.research.google.com/github/venabhi/chebrolu_IT533/blob/main/week2.ipynb\" target=\"_parent\"><img src=\"https://colab.research.google.com/assets/colab-badge.svg\" alt=\"Open In Colab\"/></a>"
      ]
    },
    {
      "cell_type": "code",
      "metadata": {
        "id": "-pGH-_ZO8E-W"
      },
      "source": [
        "import numpy as np\n",
        "import pandas as pd \n",
        "import matplotlib.pyplot as plt"
      ],
      "execution_count": 1,
      "outputs": []
    },
    {
      "cell_type": "code",
      "metadata": {
        "id": "x96VCpyK8Pi7"
      },
      "source": [
        "ven = pd.read_csv(\"https://raw.githubusercontent.com/venabhi/chebrolu_IT533/main/top2018.csv\")"
      ],
      "execution_count": 2,
      "outputs": []
    },
    {
      "cell_type": "code",
      "metadata": {
        "colab": {
          "base_uri": "https://localhost:8080/",
          "height": 347
        },
        "id": "Wrrbch5Z8pLh",
        "outputId": "ac3d5bc4-6b90-4007-f797-96fbfb2387d9"
      },
      "source": [
        "ven.head()"
      ],
      "execution_count": 3,
      "outputs": [
        {
          "output_type": "execute_result",
          "data": {
            "text/html": [
              "<div>\n",
              "<style scoped>\n",
              "    .dataframe tbody tr th:only-of-type {\n",
              "        vertical-align: middle;\n",
              "    }\n",
              "\n",
              "    .dataframe tbody tr th {\n",
              "        vertical-align: top;\n",
              "    }\n",
              "\n",
              "    .dataframe thead th {\n",
              "        text-align: right;\n",
              "    }\n",
              "</style>\n",
              "<table border=\"1\" class=\"dataframe\">\n",
              "  <thead>\n",
              "    <tr style=\"text-align: right;\">\n",
              "      <th></th>\n",
              "      <th>id</th>\n",
              "      <th>name</th>\n",
              "      <th>artists</th>\n",
              "      <th>danceability</th>\n",
              "      <th>energy</th>\n",
              "      <th>key</th>\n",
              "      <th>loudness</th>\n",
              "      <th>mode</th>\n",
              "      <th>speechiness</th>\n",
              "      <th>acousticness</th>\n",
              "      <th>instrumentalness</th>\n",
              "      <th>liveness</th>\n",
              "      <th>valence</th>\n",
              "      <th>tempo</th>\n",
              "      <th>duration_ms</th>\n",
              "      <th>time_signature</th>\n",
              "    </tr>\n",
              "  </thead>\n",
              "  <tbody>\n",
              "    <tr>\n",
              "      <th>0</th>\n",
              "      <td>6DCZcSspjsKoFjzjrWoCd</td>\n",
              "      <td>God's Plan</td>\n",
              "      <td>Drake</td>\n",
              "      <td>0.754</td>\n",
              "      <td>0.449</td>\n",
              "      <td>7.0</td>\n",
              "      <td>-9.211</td>\n",
              "      <td>1.0</td>\n",
              "      <td>0.1090</td>\n",
              "      <td>0.0332</td>\n",
              "      <td>0.000083</td>\n",
              "      <td>0.552</td>\n",
              "      <td>0.357</td>\n",
              "      <td>77.169</td>\n",
              "      <td>198973.0</td>\n",
              "      <td>4.0</td>\n",
              "    </tr>\n",
              "    <tr>\n",
              "      <th>1</th>\n",
              "      <td>3ee8Jmje8o58CHK66QrVC</td>\n",
              "      <td>SAD!</td>\n",
              "      <td>XXXTENTACION</td>\n",
              "      <td>0.740</td>\n",
              "      <td>0.613</td>\n",
              "      <td>8.0</td>\n",
              "      <td>-4.880</td>\n",
              "      <td>1.0</td>\n",
              "      <td>0.1450</td>\n",
              "      <td>0.2580</td>\n",
              "      <td>0.003720</td>\n",
              "      <td>0.123</td>\n",
              "      <td>0.473</td>\n",
              "      <td>75.023</td>\n",
              "      <td>166606.0</td>\n",
              "      <td>4.0</td>\n",
              "    </tr>\n",
              "    <tr>\n",
              "      <th>2</th>\n",
              "      <td>0e7ipj03S05BNilyu5bRz</td>\n",
              "      <td>rockstar (feat. 21 Savage)</td>\n",
              "      <td>Post Malone</td>\n",
              "      <td>0.587</td>\n",
              "      <td>0.535</td>\n",
              "      <td>5.0</td>\n",
              "      <td>-6.090</td>\n",
              "      <td>0.0</td>\n",
              "      <td>0.0898</td>\n",
              "      <td>0.1170</td>\n",
              "      <td>0.000066</td>\n",
              "      <td>0.131</td>\n",
              "      <td>0.140</td>\n",
              "      <td>159.847</td>\n",
              "      <td>218147.0</td>\n",
              "      <td>4.0</td>\n",
              "    </tr>\n",
              "    <tr>\n",
              "      <th>3</th>\n",
              "      <td>3swc6WTsr7rl9DqQKQA55</td>\n",
              "      <td>Psycho (feat. Ty Dolla $ign)</td>\n",
              "      <td>Post Malone</td>\n",
              "      <td>0.739</td>\n",
              "      <td>0.559</td>\n",
              "      <td>8.0</td>\n",
              "      <td>-8.011</td>\n",
              "      <td>1.0</td>\n",
              "      <td>0.1170</td>\n",
              "      <td>0.5800</td>\n",
              "      <td>0.000000</td>\n",
              "      <td>0.112</td>\n",
              "      <td>0.439</td>\n",
              "      <td>140.124</td>\n",
              "      <td>221440.0</td>\n",
              "      <td>4.0</td>\n",
              "    </tr>\n",
              "    <tr>\n",
              "      <th>4</th>\n",
              "      <td>2G7V7zsVDxg1yRsu7Ew9R</td>\n",
              "      <td>In My Feelings</td>\n",
              "      <td>Drake</td>\n",
              "      <td>0.835</td>\n",
              "      <td>0.626</td>\n",
              "      <td>1.0</td>\n",
              "      <td>-5.833</td>\n",
              "      <td>1.0</td>\n",
              "      <td>0.1250</td>\n",
              "      <td>0.0589</td>\n",
              "      <td>0.000060</td>\n",
              "      <td>0.396</td>\n",
              "      <td>0.350</td>\n",
              "      <td>91.030</td>\n",
              "      <td>217925.0</td>\n",
              "      <td>4.0</td>\n",
              "    </tr>\n",
              "  </tbody>\n",
              "</table>\n",
              "</div>"
            ],
            "text/plain": [
              "                      id  ... time_signature\n",
              "0  6DCZcSspjsKoFjzjrWoCd  ...            4.0\n",
              "1  3ee8Jmje8o58CHK66QrVC  ...            4.0\n",
              "2  0e7ipj03S05BNilyu5bRz  ...            4.0\n",
              "3  3swc6WTsr7rl9DqQKQA55  ...            4.0\n",
              "4  2G7V7zsVDxg1yRsu7Ew9R  ...            4.0\n",
              "\n",
              "[5 rows x 16 columns]"
            ]
          },
          "metadata": {
            "tags": []
          },
          "execution_count": 3
        }
      ]
    },
    {
      "cell_type": "code",
      "metadata": {
        "colab": {
          "base_uri": "https://localhost:8080/"
        },
        "id": "GWG1TyRb8wiv",
        "outputId": "3fa2a62e-81f8-439e-d137-d449f1e36ba9"
      },
      "source": [
        "ven.liveness.mean()"
      ],
      "execution_count": 4,
      "outputs": [
        {
          "output_type": "execute_result",
          "data": {
            "text/plain": [
              "0.15830199999999997"
            ]
          },
          "metadata": {
            "tags": []
          },
          "execution_count": 4
        }
      ]
    },
    {
      "cell_type": "code",
      "metadata": {
        "colab": {
          "base_uri": "https://localhost:8080/"
        },
        "id": "SVHm7OZQ9FDU",
        "outputId": "7717c7cc-b7a0-4dc1-ba3e-7d6a98252574"
      },
      "source": [
        "ven.liveness.median()"
      ],
      "execution_count": 5,
      "outputs": [
        {
          "output_type": "execute_result",
          "data": {
            "text/plain": [
              "0.11850000000000001"
            ]
          },
          "metadata": {
            "tags": []
          },
          "execution_count": 5
        }
      ]
    },
    {
      "cell_type": "code",
      "metadata": {
        "colab": {
          "base_uri": "https://localhost:8080/"
        },
        "id": "Oo9pBJjT9OXl",
        "outputId": "7a0824dc-f5e1-425b-e212-0cde517b9bb8"
      },
      "source": [
        "ven.liveness.mode()"
      ],
      "execution_count": 6,
      "outputs": [
        {
          "output_type": "execute_result",
          "data": {
            "text/plain": [
              "0    0.104\n",
              "1    0.108\n",
              "2    0.112\n",
              "dtype: float64"
            ]
          },
          "metadata": {
            "tags": []
          },
          "execution_count": 6
        }
      ]
    },
    {
      "cell_type": "code",
      "metadata": {
        "colab": {
          "base_uri": "https://localhost:8080/"
        },
        "id": "kduggXRZ9SpZ",
        "outputId": "fe59f362-3ea7-4a40-8902-ca0121090182"
      },
      "source": [
        "ven.liveness.max()"
      ],
      "execution_count": 7,
      "outputs": [
        {
          "output_type": "execute_result",
          "data": {
            "text/plain": [
              "0.636"
            ]
          },
          "metadata": {
            "tags": []
          },
          "execution_count": 7
        }
      ]
    },
    {
      "cell_type": "code",
      "metadata": {
        "colab": {
          "base_uri": "https://localhost:8080/"
        },
        "id": "OQy_3lFJ9WaS",
        "outputId": "d00de4ad-2e6a-4880-dafb-137ac909c63c"
      },
      "source": [
        "ven.liveness.std()"
      ],
      "execution_count": 8,
      "outputs": [
        {
          "output_type": "execute_result",
          "data": {
            "text/plain": [
              "0.11166190037770089"
            ]
          },
          "metadata": {
            "tags": []
          },
          "execution_count": 8
        }
      ]
    },
    {
      "cell_type": "code",
      "metadata": {
        "colab": {
          "base_uri": "https://localhost:8080/",
          "height": 283
        },
        "id": "-8USNA349krx",
        "outputId": "cb6a5c46-0207-4be5-c888-5399b2e81d8d"
      },
      "source": [
        "ven.boxplot(['liveness'])"
      ],
      "execution_count": 9,
      "outputs": [
        {
          "output_type": "execute_result",
          "data": {
            "text/plain": [
              "<matplotlib.axes._subplots.AxesSubplot at 0x7f9b659a5ed0>"
            ]
          },
          "metadata": {
            "tags": []
          },
          "execution_count": 9
        },
        {
          "output_type": "display_data",
          "data": {
            "image/png": "[encoded data removed]",
            "text/plain": [
              "<Figure size 432x288 with 1 Axes>"
            ]
          },
          "metadata": {
            "tags": [],
            "needs_background": "light"
          }
        }
      ]
    },
    {
      "cell_type": "code",
      "metadata": {
        "colab": {
          "base_uri": "https://localhost:8080/"
        },
        "id": "vtGHR3JP9x94",
        "outputId": "ba611451-ed39-470e-c2f6-dd9c0777a750"
      },
      "source": [
        "ven.valence.mean()"
      ],
      "execution_count": 10,
      "outputs": [
        {
          "output_type": "execute_result",
          "data": {
            "text/plain": [
              "0.4844429999999997"
            ]
          },
          "metadata": {
            "tags": []
          },
          "execution_count": 10
        }
      ]
    },
    {
      "cell_type": "code",
      "metadata": {
        "colab": {
          "base_uri": "https://localhost:8080/"
        },
        "id": "65-GL5Eg97L9",
        "outputId": "a1d085a5-db2d-41ca-f422-a7262ae443b9"
      },
      "source": [
        "ven.valence.median()"
      ],
      "execution_count": 11,
      "outputs": [
        {
          "output_type": "execute_result",
          "data": {
            "text/plain": [
              "0.4705"
            ]
          },
          "metadata": {
            "tags": []
          },
          "execution_count": 11
        }
      ]
    },
    {
      "cell_type": "code",
      "metadata": {
        "colab": {
          "base_uri": "https://localhost:8080/",
          "height": 283
        },
        "id": "L5DeGBnV9-5R",
        "outputId": "20454b16-8f6a-4e3c-8746-329050ff7145"
      },
      "source": [
        "ven.boxplot(['valence'])"
      ],
      "execution_count": 12,
      "outputs": [
        {
          "output_type": "execute_result",
          "data": {
            "text/plain": [
              "<matplotlib.axes._subplots.AxesSubplot at 0x7f9b617f1490>"
            ]
          },
          "metadata": {
            "tags": []
          },
          "execution_count": 12
        },
        {
          "output_type": "display_data",
          "data": {
            "image/png": "[encoded data removed]",
            "text/plain": [
              "<Figure size 432x288 with 1 Axes>"
            ]
          },
          "metadata": {
            "tags": [],
            "needs_background": "light"
          }
        }
      ]
    },
    {
      "cell_type": "code",
      "metadata": {
        "colab": {
          "base_uri": "https://localhost:8080/",
          "height": 449
        },
        "id": "zXt4iD4V-UFH",
        "outputId": "b28276bf-0003-476e-dcf8-15c969401cfb"
      },
      "source": [
        "ven.describe(include='all')"
      ],
      "execution_count": 13,
      "outputs": [
        {
          "output_type": "execute_result",
          "data": {
            "text/html": [
              "<div>\n",
              "<style scoped>\n",
              "    .dataframe tbody tr th:only-of-type {\n",
              "        vertical-align: middle;\n",
              "    }\n",
              "\n",
              "    .dataframe tbody tr th {\n",
              "        vertical-align: top;\n",
              "    }\n",
              "\n",
              "    .dataframe thead th {\n",
              "        text-align: right;\n",
              "    }\n",
              "</style>\n",
              "<table border=\"1\" class=\"dataframe\">\n",
              "  <thead>\n",
              "    <tr style=\"text-align: right;\">\n",
              "      <th></th>\n",
              "      <th>id</th>\n",
              "      <th>name</th>\n",
              "      <th>artists</th>\n",
              "      <th>danceability</th>\n",
              "      <th>energy</th>\n",
              "      <th>key</th>\n",
              "      <th>loudness</th>\n",
              "      <th>mode</th>\n",
              "      <th>speechiness</th>\n",
              "      <th>acousticness</th>\n",
              "      <th>instrumentalness</th>\n",
              "      <th>liveness</th>\n",
              "      <th>valence</th>\n",
              "      <th>tempo</th>\n",
              "      <th>duration_ms</th>\n",
              "      <th>time_signature</th>\n",
              "    </tr>\n",
              "  </thead>\n",
              "  <tbody>\n",
              "    <tr>\n",
              "      <th>count</th>\n",
              "      <td>100</td>\n",
              "      <td>100</td>\n",
              "      <td>100</td>\n",
              "      <td>100.00000</td>\n",
              "      <td>100.000000</td>\n",
              "      <td>100.000000</td>\n",
              "      <td>100.000000</td>\n",
              "      <td>100.000000</td>\n",
              "      <td>100.000000</td>\n",
              "      <td>100.000000</td>\n",
              "      <td>100.000000</td>\n",
              "      <td>100.000000</td>\n",
              "      <td>100.000000</td>\n",
              "      <td>100.000000</td>\n",
              "      <td>100.000000</td>\n",
              "      <td>100.00</td>\n",
              "    </tr>\n",
              "    <tr>\n",
              "      <th>unique</th>\n",
              "      <td>100</td>\n",
              "      <td>100</td>\n",
              "      <td>70</td>\n",
              "      <td>NaN</td>\n",
              "      <td>NaN</td>\n",
              "      <td>NaN</td>\n",
              "      <td>NaN</td>\n",
              "      <td>NaN</td>\n",
              "      <td>NaN</td>\n",
              "      <td>NaN</td>\n",
              "      <td>NaN</td>\n",
              "      <td>NaN</td>\n",
              "      <td>NaN</td>\n",
              "      <td>NaN</td>\n",
              "      <td>NaN</td>\n",
              "      <td>NaN</td>\n",
              "    </tr>\n",
              "    <tr>\n",
              "      <th>top</th>\n",
              "      <td>7AFASza1mXqntmGtbxXpr</td>\n",
              "      <td>What Lovers Do</td>\n",
              "      <td>XXXTENTACION</td>\n",
              "      <td>NaN</td>\n",
              "      <td>NaN</td>\n",
              "      <td>NaN</td>\n",
              "      <td>NaN</td>\n",
              "      <td>NaN</td>\n",
              "      <td>NaN</td>\n",
              "      <td>NaN</td>\n",
              "      <td>NaN</td>\n",
              "      <td>NaN</td>\n",
              "      <td>NaN</td>\n",
              "      <td>NaN</td>\n",
              "      <td>NaN</td>\n",
              "      <td>NaN</td>\n",
              "    </tr>\n",
              "    <tr>\n",
              "      <th>freq</th>\n",
              "      <td>1</td>\n",
              "      <td>1</td>\n",
              "      <td>6</td>\n",
              "      <td>NaN</td>\n",
              "      <td>NaN</td>\n",
              "      <td>NaN</td>\n",
              "      <td>NaN</td>\n",
              "      <td>NaN</td>\n",
              "      <td>NaN</td>\n",
              "      <td>NaN</td>\n",
              "      <td>NaN</td>\n",
              "      <td>NaN</td>\n",
              "      <td>NaN</td>\n",
              "      <td>NaN</td>\n",
              "      <td>NaN</td>\n",
              "      <td>NaN</td>\n",
              "    </tr>\n",
              "    <tr>\n",
              "      <th>mean</th>\n",
              "      <td>NaN</td>\n",
              "      <td>NaN</td>\n",
              "      <td>NaN</td>\n",
              "      <td>0.71646</td>\n",
              "      <td>0.659060</td>\n",
              "      <td>5.330000</td>\n",
              "      <td>-5.677640</td>\n",
              "      <td>0.590000</td>\n",
              "      <td>0.115569</td>\n",
              "      <td>0.195701</td>\n",
              "      <td>0.001584</td>\n",
              "      <td>0.158302</td>\n",
              "      <td>0.484443</td>\n",
              "      <td>119.904180</td>\n",
              "      <td>205206.780000</td>\n",
              "      <td>3.98</td>\n",
              "    </tr>\n",
              "    <tr>\n",
              "      <th>std</th>\n",
              "      <td>NaN</td>\n",
              "      <td>NaN</td>\n",
              "      <td>NaN</td>\n",
              "      <td>0.13107</td>\n",
              "      <td>0.145067</td>\n",
              "      <td>3.676447</td>\n",
              "      <td>1.777577</td>\n",
              "      <td>0.494311</td>\n",
              "      <td>0.104527</td>\n",
              "      <td>0.220946</td>\n",
              "      <td>0.013449</td>\n",
              "      <td>0.111662</td>\n",
              "      <td>0.206145</td>\n",
              "      <td>28.795984</td>\n",
              "      <td>40007.893404</td>\n",
              "      <td>0.20</td>\n",
              "    </tr>\n",
              "    <tr>\n",
              "      <th>min</th>\n",
              "      <td>NaN</td>\n",
              "      <td>NaN</td>\n",
              "      <td>NaN</td>\n",
              "      <td>0.25800</td>\n",
              "      <td>0.296000</td>\n",
              "      <td>0.000000</td>\n",
              "      <td>-10.109000</td>\n",
              "      <td>0.000000</td>\n",
              "      <td>0.023200</td>\n",
              "      <td>0.000282</td>\n",
              "      <td>0.000000</td>\n",
              "      <td>0.021500</td>\n",
              "      <td>0.079600</td>\n",
              "      <td>64.934000</td>\n",
              "      <td>95467.000000</td>\n",
              "      <td>3.00</td>\n",
              "    </tr>\n",
              "    <tr>\n",
              "      <th>25%</th>\n",
              "      <td>NaN</td>\n",
              "      <td>NaN</td>\n",
              "      <td>NaN</td>\n",
              "      <td>0.63550</td>\n",
              "      <td>0.562000</td>\n",
              "      <td>1.750000</td>\n",
              "      <td>-6.650500</td>\n",
              "      <td>0.000000</td>\n",
              "      <td>0.045350</td>\n",
              "      <td>0.040225</td>\n",
              "      <td>0.000000</td>\n",
              "      <td>0.094675</td>\n",
              "      <td>0.341000</td>\n",
              "      <td>95.730750</td>\n",
              "      <td>184680.000000</td>\n",
              "      <td>4.00</td>\n",
              "    </tr>\n",
              "    <tr>\n",
              "      <th>50%</th>\n",
              "      <td>NaN</td>\n",
              "      <td>NaN</td>\n",
              "      <td>NaN</td>\n",
              "      <td>0.73300</td>\n",
              "      <td>0.678000</td>\n",
              "      <td>5.000000</td>\n",
              "      <td>-5.566500</td>\n",
              "      <td>1.000000</td>\n",
              "      <td>0.074950</td>\n",
              "      <td>0.109000</td>\n",
              "      <td>0.000000</td>\n",
              "      <td>0.118500</td>\n",
              "      <td>0.470500</td>\n",
              "      <td>120.116000</td>\n",
              "      <td>205047.500000</td>\n",
              "      <td>4.00</td>\n",
              "    </tr>\n",
              "    <tr>\n",
              "      <th>75%</th>\n",
              "      <td>NaN</td>\n",
              "      <td>NaN</td>\n",
              "      <td>NaN</td>\n",
              "      <td>0.79825</td>\n",
              "      <td>0.772250</td>\n",
              "      <td>8.250000</td>\n",
              "      <td>-4.363750</td>\n",
              "      <td>1.000000</td>\n",
              "      <td>0.137000</td>\n",
              "      <td>0.247750</td>\n",
              "      <td>0.000031</td>\n",
              "      <td>0.170750</td>\n",
              "      <td>0.641500</td>\n",
              "      <td>140.022750</td>\n",
              "      <td>221493.250000</td>\n",
              "      <td>4.00</td>\n",
              "    </tr>\n",
              "    <tr>\n",
              "      <th>max</th>\n",
              "      <td>NaN</td>\n",
              "      <td>NaN</td>\n",
              "      <td>NaN</td>\n",
              "      <td>0.96400</td>\n",
              "      <td>0.909000</td>\n",
              "      <td>11.000000</td>\n",
              "      <td>-2.384000</td>\n",
              "      <td>1.000000</td>\n",
              "      <td>0.530000</td>\n",
              "      <td>0.934000</td>\n",
              "      <td>0.134000</td>\n",
              "      <td>0.636000</td>\n",
              "      <td>0.931000</td>\n",
              "      <td>198.075000</td>\n",
              "      <td>417920.000000</td>\n",
              "      <td>5.00</td>\n",
              "    </tr>\n",
              "  </tbody>\n",
              "</table>\n",
              "</div>"
            ],
            "text/plain": [
              "                           id            name  ...    duration_ms  time_signature\n",
              "count                     100             100  ...     100.000000          100.00\n",
              "unique                    100             100  ...            NaN             NaN\n",
              "top     7AFASza1mXqntmGtbxXpr  What Lovers Do  ...            NaN             NaN\n",
              "freq                        1               1  ...            NaN             NaN\n",
              "mean                      NaN             NaN  ...  205206.780000            3.98\n",
              "std                       NaN             NaN  ...   40007.893404            0.20\n",
              "min                       NaN             NaN  ...   95467.000000            3.00\n",
              "25%                       NaN             NaN  ...  184680.000000            4.00\n",
              "50%                       NaN             NaN  ...  205047.500000            4.00\n",
              "75%                       NaN             NaN  ...  221493.250000            4.00\n",
              "max                       NaN             NaN  ...  417920.000000            5.00\n",
              "\n",
              "[11 rows x 16 columns]"
            ]
          },
          "metadata": {
            "tags": []
          },
          "execution_count": 13
        }
      ]
    },
    {
      "cell_type": "code",
      "metadata": {
        "colab": {
          "base_uri": "https://localhost:8080/"
        },
        "id": "6fx6UPOg-cIY",
        "outputId": "43f646dd-2d0f-45b6-c7ca-e6974d67701b"
      },
      "source": [
        "point1=np.array((ven.liveness))\n",
        "point2=np.array((ven.valence))\n",
        "print(\"array 1:\")\n",
        "print(point1)\n",
        "print(\"array 2:\")\n",
        "print(point2)"
      ],
      "execution_count": 14,
      "outputs": [
        {
          "output_type": "stream",
          "text": [
            "array 1:\n",
            "[0.552  0.123  0.131  0.112  0.396  0.136  0.372  0.0814 0.0824 0.128\n",
            " 0.132  0.34   0.119  0.13   0.112  0.0926 0.294  0.334  0.102  0.105\n",
            " 0.165  0.0595 0.451  0.124  0.153  0.0931 0.134  0.0646 0.297  0.106\n",
            " 0.101  0.35   0.196  0.418  0.0925 0.116  0.137  0.183  0.0984 0.118\n",
            " 0.0713 0.409  0.124  0.147  0.636  0.0586 0.0215 0.12   0.173  0.35\n",
            " 0.114  0.167  0.173  0.109  0.081  0.136  0.203  0.0543 0.109  0.104\n",
            " 0.137  0.104  0.103  0.13   0.17   0.237  0.0753 0.0934 0.1    0.0618\n",
            " 0.0841 0.0717 0.111  0.108  0.308  0.071  0.253  0.0501 0.255  0.108\n",
            " 0.095  0.159  0.0958 0.203  0.123  0.198  0.165  0.0937 0.068  0.127\n",
            " 0.325  0.108  0.104  0.0424 0.112  0.122  0.0919 0.0865 0.106  0.0813]\n",
            "array 2:\n",
            "[0.357  0.473  0.14   0.439  0.35   0.374  0.65   0.592  0.51   0.534\n",
            " 0.394  0.218  0.757  0.448  0.437  0.552  0.354  0.711  0.711  0.595\n",
            " 0.55   0.442  0.717  0.152  0.608  0.931  0.338  0.589  0.437  0.168\n",
            " 0.342  0.565  0.291  0.0796 0.649  0.319  0.243  0.305  0.52   0.163\n",
            " 0.659  0.828  0.446  0.288  0.768  0.687  0.926  0.508  0.468  0.172\n",
            " 0.333  0.671  0.534  0.755  0.666  0.376  0.655  0.582  0.401  0.82\n",
            " 0.603  0.422  0.329  0.487  0.286  0.268  0.839  0.421  0.419  0.591\n",
            " 0.742  0.754  0.188  0.406  0.191  0.438  0.492  0.794  0.839  0.158\n",
            " 0.12   0.498  0.421  0.555  0.356  0.748  0.394  0.626  0.619  0.844\n",
            " 0.486  0.562  0.419  0.1    0.689  0.284  0.33   0.639  0.0967 0.443 ]\n"
          ],
          "name": "stdout"
        }
      ]
    },
    {
      "cell_type": "code",
      "metadata": {
        "colab": {
          "base_uri": "https://localhost:8080/"
        },
        "id": "fWUt8aQ4_KoE",
        "outputId": "edc0b53f-7928-4bd2-fa28-23acc7d79853"
      },
      "source": [
        "dist=np.linalg.norm(point1-point2)\n",
        "print(\"Euclidean distance between liveness and valence is:\",dist)"
      ],
      "execution_count": 15,
      "outputs": [
        {
          "output_type": "stream",
          "text": [
            "Euclidean distance between liveness and valence is: 4.033914301271161\n"
          ],
          "name": "stdout"
        }
      ]
    },
    {
      "cell_type": "markdown",
      "metadata": {
        "id": "O5o7HrPx_n_d"
      },
      "source": [
        "1.Firstly, i have selected two attributes liveness and valence from the given data\n",
        "2. i had calculated the mean, median, max, std of the attributes and i got the outputs of th two attributes.\n",
        "3. Next, using the syntax i had boxplot the attributes\n",
        "4. after describing all the attributes and i had printed the point 1 and point2 array which is liveness and valence as an attributes.\n",
        "5. Also, i had calculated the Euclidian distance of the two attributes which are liveness and valence using dist=np.linalg.norm(point1-point2) and i printed the Euclidian distance and my output is  4.033914301271161\n",
        "6. my results will help to enhance marketing strategies and it will results exact data for what we required. In addition, it will improve to identify  the \n",
        "comming trends and patterns that can be analyzed and also  my attributes will show the increased probability.\n",
        "\n"
      ]
    }
  ]
}